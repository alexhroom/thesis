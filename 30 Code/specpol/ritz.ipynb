{
 "cells": [
  {
   "cell_type": "code",
   "execution_count": 1,
   "id": "e90bd6e8",
   "metadata": {},
   "outputs": [],
   "source": [
    "import numpy as np\n",
    "from functools import partial"
   ]
  },
  {
   "cell_type": "code",
   "execution_count": 2,
   "id": "df41e081",
   "metadata": {},
   "outputs": [],
   "source": [
    "class Operator:\n",
    "    def __init__(self, action):\n",
    "        self.action = action\n",
    "        \n",
    "    def __call__(self, function):\n",
    "        return self.action(function)"
   ]
  },
  {
   "cell_type": "code",
   "execution_count": 3,
   "id": "a2bff3c5",
   "metadata": {},
   "outputs": [],
   "source": [
    "def laplace_action(func):\n",
    "    def new_func(n):\n",
    "        return func(n+1) + func(n-1)\n",
    "    return new_func\n",
    "\n",
    "laplacian = Operator(laplace_action)"
   ]
  },
  {
   "cell_type": "code",
   "execution_count": 4,
   "id": "b4a04d29",
   "metadata": {},
   "outputs": [],
   "source": [
    "def multiplication_action(func):\n",
    "    def sign_func(n):\n",
    "        return 1 if n >= 0 else -1\n",
    "    def new_func(n):\n",
    "        return sign_func(n) * func(n)\n",
    "    return new_func\n",
    "\n",
    "m_f = Operator(multiplication_action)"
   ]
  },
  {
   "cell_type": "code",
   "execution_count": 21,
   "id": "72215fc5",
   "metadata": {},
   "outputs": [],
   "source": [
    "def phi(k):\n",
    "    return lambda n: 1 if n==k else 0\n",
    "\n",
    "def calculate_ritz_matrix(operator, phi, matrix_size):\n",
    "    onb = [phi(n) for n in range(0, matrix_size)]\n",
    "    def ritz_entry(r, s):\n",
    "        return np.dot([operator(onb[r])(n) for n in range(0, matrix_size)],\n",
    "                [onb[s](n) for n in range(0, matrix_size)])\n",
    "        \n",
    "    return np.asmatrix([[ritz_entry(r, s) for r in range(0, matrix_size)] for s in range(0, matrix_size)])"
   ]
  },
  {
   "cell_type": "code",
   "execution_count": 22,
   "id": "ea89aebc",
   "metadata": {},
   "outputs": [
    {
     "data": {
      "text/plain": [
       "matrix([[0, 1, 0, ..., 0, 0, 0],\n",
       "        [1, 0, 1, ..., 0, 0, 0],\n",
       "        [0, 1, 0, ..., 0, 0, 0],\n",
       "        ...,\n",
       "        [0, 0, 0, ..., 0, 1, 0],\n",
       "        [0, 0, 0, ..., 1, 0, 1],\n",
       "        [0, 0, 0, ..., 0, 1, 0]])"
      ]
     },
     "execution_count": 22,
     "metadata": {},
     "output_type": "execute_result"
    }
   ],
   "source": [
    "calculate_ritz_matrix(laplacian, phi, 50)"
   ]
  },
  {
   "cell_type": "code",
   "execution_count": 18,
   "id": "cf1ed18b",
   "metadata": {},
   "outputs": [
    {
     "data": {
      "text/plain": [
       "array([-50.        , -47.95918367, -45.91836735, -43.87755102,\n",
       "       -41.83673469, -39.79591837, -37.75510204, -35.71428571,\n",
       "       -33.67346939, -31.63265306, -29.59183673, -27.55102041,\n",
       "       -25.51020408, -23.46938776, -21.42857143, -19.3877551 ,\n",
       "       -17.34693878, -15.30612245, -13.26530612, -11.2244898 ,\n",
       "        -9.18367347,  -7.14285714,  -5.10204082,  -3.06122449,\n",
       "        -1.02040816,   1.02040816,   3.06122449,   5.10204082,\n",
       "         7.14285714,   9.18367347,  11.2244898 ,  13.26530612,\n",
       "        15.30612245,  17.34693878,  19.3877551 ,  21.42857143,\n",
       "        23.46938776,  25.51020408,  27.55102041,  29.59183673,\n",
       "        31.63265306,  33.67346939,  35.71428571,  37.75510204,\n",
       "        39.79591837,  41.83673469,  43.87755102,  45.91836735,\n",
       "        47.95918367,  50.        ])"
      ]
     },
     "execution_count": 18,
     "metadata": {},
     "output_type": "execute_result"
    }
   ],
   "source": [
    "np.linspace(-50, 50)"
   ]
  },
  {
   "cell_type": "code",
   "execution_count": null,
   "id": "4e50ddea",
   "metadata": {},
   "outputs": [],
   "source": []
  }
 ],
 "metadata": {
  "kernelspec": {
   "display_name": "Python 3 (ipykernel)",
   "language": "python",
   "name": "python3"
  },
  "language_info": {
   "codemirror_mode": {
    "name": "ipython",
    "version": 3
   },
   "file_extension": ".py",
   "mimetype": "text/x-python",
   "name": "python",
   "nbconvert_exporter": "python",
   "pygments_lexer": "ipython3",
   "version": "3.11.2"
  }
 },
 "nbformat": 4,
 "nbformat_minor": 5
}
