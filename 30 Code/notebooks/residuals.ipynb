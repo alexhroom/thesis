{
 "cells": [
  {
   "cell_type": "code",
   "execution_count": 22,
   "metadata": {},
   "outputs": [
    {
     "data": {
      "text/latex": [
       "$\\displaystyle \\int\\limits_{0}^{\\infty} \\left|{\\left(\\frac{3 x^{2}}{8} - 5 x + 12.5\\right) e^{- \\frac{x}{2}} - \\left(- \\left(2 x - 2\\right) e^{- \\frac{x}{2}} + \\left(\\frac{3 x^{2}}{2} - 6 x + 3.0\\right) e^{- \\frac{x}{2}} + e^{- \\frac{x}{2}}\\right) \\left(\\sin{\\left(x \\right)} + 0.2277 - \\frac{40}{x^{2} + 1}\\right)}\\right|^{2}\\, dx$"
      ],
      "text/plain": [
       "Integral(Abs((3*x**2/8 - 5*x + 12.5)*exp(-x/2) - (-(2*x - 2)*exp(-x/2) + (3*x**2/2 - 6*x + 3.0)*exp(-x/2) + exp(-x/2))*(sin(x) + 0.2277 - 40/(x**2 + 1)))**2, (x, 0, oo))"
      ]
     },
     "execution_count": 22,
     "metadata": {},
     "output_type": "execute_result"
    }
   ],
   "source": [
    "import sympy as sym\n",
    "from specpol.common import laguerre\n",
    "import numpy as np\n",
    "x = sym.Symbol('x')\n",
    "lda=-0.2277\n",
    "\n",
    "def potential(x):  # the potential Q(x) of the Sturm-Liouville operator\n",
    "    return sym.sin(x) - 40/(1+x**2)\n",
    "\n",
    "def disc_eigfunc(vec):\n",
    "    return sum(weight * laguerre(i, 0, x) * sym.exp(-x/2) for i, weight in enumerate(vec, start=0))\n",
    "\n",
    "eigfn = disc_eigfunc([1, 2, 3])\n",
    "\n",
    "lu = sym.Abs(- eigfn.diff(x, 2) + (potential(x) - lda) * eigfn)**2\n",
    "\n",
    "sym.integrate(lu, (x, 0, sym.oo), meijerg=True)"
   ]
  },
  {
   "cell_type": "code",
   "execution_count": 30,
   "metadata": {},
   "outputs": [
    {
     "data": {
      "text/plain": [
       "105.69483928436293"
      ]
     },
     "execution_count": 30,
     "metadata": {},
     "output_type": "execute_result"
    }
   ],
   "source": [
    "from specpol.common import laguerre, lagdiff\n",
    "import numpy as np\n",
    "import scipy.integrate as int\n",
    "lda=-0.2277\n",
    "\n",
    "def potential(x):  # the potential Q(x) of the Sturm-Liouville operator\n",
    "    return np.sin(x) - 40/(1+x**2)\n",
    "\n",
    "def residual(vec, lda):\n",
    "    def disc_eigfunc(vec):\n",
    "        return lambda x: sum(weight * laguerre(i, 0, x) * np.exp(-x/2) for i, weight in enumerate(vec, start=0))\n",
    "\n",
    "    def delta_eigfunc(vec):\n",
    "        def eigfunc(x):\n",
    "            return sum(\n",
    "                weight * np.exp(-x/2)\n",
    "                        * (lagdiff(i, 0, x, degree=2)\n",
    "                        - lagdiff(i, 0, x, degree=1)\n",
    "                        + 1/4 * laguerre(i, 0, x))\n",
    "                    for i, weight in enumerate(vec, start=0))\n",
    "        return eigfunc\n",
    "\n",
    "    eigfn = disc_eigfunc(vec)\n",
    "    eigdf = delta_eigfunc(vec)\n",
    "\n",
    "    def lu(x):\n",
    "        return np.abs(-eigdf(x) + (potential(x) - lda) * eigfn(x))**2\n",
    "\n",
    "    int.quad(lu, 0, np.infty)[0]**(1/2)"
   ]
  },
  {
   "cell_type": "code",
   "execution_count": null,
   "metadata": {},
   "outputs": [],
   "source": []
  }
 ],
 "metadata": {
  "kernelspec": {
   "display_name": "Python 3",
   "language": "python",
   "name": "python3"
  },
  "language_info": {
   "codemirror_mode": {
    "name": "ipython",
    "version": 3
   },
   "file_extension": ".py",
   "mimetype": "text/x-python",
   "name": "python",
   "nbconvert_exporter": "python",
   "pygments_lexer": "ipython3",
   "version": "3.11.2"
  }
 },
 "nbformat": 4,
 "nbformat_minor": 2
}
