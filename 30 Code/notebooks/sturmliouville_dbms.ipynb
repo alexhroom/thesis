{
 "cells": [
  {
   "cell_type": "markdown",
   "metadata": {},
   "source": [
    "# Ritz approximation and dissipative barrier methods for a Sturm-Liouville operator\n",
    "\n",
    "In this notebook we will aim to compare a dissipative barrier method against the high-accuracy\n",
    "eigenvalue calculation method outlined in [1] for finding the eigenvalues of the\n",
    "Sturm-Liouville operator\n",
    "\n",
    "$$Ly = -y'' + Q(x)y$$\n",
    "\n",
    "where $Q(x) = \\sin(x) - \\frac{40}{1+x^2}$.\n",
    "\n",
    "[1] Aceto, Ghelardoni & Marletta (2006) Numerical computation of eigenvalues in spectral gaps of Sturm–Liouville operators, Journal of Computational and Applied Mathematics"
   ]
  },
  {
   "cell_type": "code",
   "execution_count": null,
   "metadata": {},
   "outputs": [],
   "source": [
    "from typing import Dict\n",
    "\n",
    "import numpy as np\n",
    "from tqdm import tqdm\n",
    "import matplotlib.pyplot as plt\n",
    "\n",
    "from specpol.ritz import sturm_liouville_bdd, sturm_liouville_halfline\n",
    "from specpol.plot import plot_ritz"
   ]
  },
  {
   "cell_type": "code",
   "execution_count": null,
   "metadata": {},
   "outputs": [],
   "source": [
    "def plot(ritz_results: Dict[int, np.array], dbm=None):\n",
    "    # plot the approximation with some added bars and lines\n",
    "\n",
    "    fig, ax1, ax2 = plot_ritz(ritz_results, dbm=dbm)\n",
    "\n",
    "    ax1.set_ylim(-0.5, 2.5)\n",
    "    ax1.axhline(0.335936534279424, linestyle=\"--\", alpha=0.6)\n",
    "    ax1.axhline(0.536620364148446, linestyle=\"--\", alpha=0.6)\n",
    "    ax1.axhline(0.580834838005921, linestyle=\"--\", alpha=0.6)\n",
    "    ax1.axhline(0.591500609480355, linestyle=\"--\", alpha=0.6)\n",
    "\n",
    "    ax1.axhline(0.949634991713441, linestyle=\"--\", alpha=0.6)\n",
    "    ax1.axhline(1.24466406161563, linestyle=\"--\", alpha=0.6)\n",
    "    ax1.axhline(1.29192807845892, linestyle=\"--\", alpha=0.6)\n",
    "\n",
    "    ax1.axhspan(-0.3784, -0.34766, facecolor=\"green\", alpha=0.2)\n",
    "    ax1.axhspan(0.594799, 0.9180581788, facecolor=\"green\", alpha=0.2)\n",
    "    ax1.axhspan(1.2931662851, 2.2851569481, facecolor=\"green\", alpha=0.2)\n",
    "\n",
    "    ax2.set_xlim(-0.5, 1.5)\n",
    "    ax2.set_ylim(-0.5, 1.25)\n",
    "\n",
    "    ax2.axvline(0.335936534279424, linestyle=\"--\", alpha=0.6)\n",
    "    ax2.axvline(0.536620364148446, linestyle=\"--\", alpha=0.6)\n",
    "    ax2.axvline(0.580834838005921, linestyle=\"--\", alpha=0.6)\n",
    "    ax2.axvline(0.591500609480355, linestyle=\"--\", alpha=0.6)\n",
    "\n",
    "    ax2.axvline(0.949634991713441, linestyle=\"--\", alpha=0.6)\n",
    "    ax2.axvline(1.24466406161563, linestyle=\"--\", alpha=0.6)\n",
    "    ax2.axvline(1.29192807845892, linestyle=\"--\", alpha=0.6)\n",
    "\n",
    "    ax2.axvspan(-0.3784, -0.34766, facecolor=\"green\", alpha=0.2)\n",
    "    ax2.axvspan(0.594799, 0.9180581788, facecolor=\"green\", alpha=0.2)\n",
    "    ax2.axvspan(1.2931662851, 2.2851569481, facecolor=\"green\", alpha=0.2)\n",
    "\n",
    "    plt.show()"
   ]
  },
  {
   "cell_type": "code",
   "execution_count": null,
   "metadata": {},
   "outputs": [],
   "source": [
    "def potential(x):  # the potential Q(x) of the Sturm-Liouville operator\n",
    "    return np.sin(x) - 40/(1+x**2)"
   ]
  },
  {
   "cell_type": "code",
   "execution_count": null,
   "metadata": {},
   "outputs": [],
   "source": [
    "sl_spec = dict()\n",
    "sl_spec_dbm = dict()\n",
    "\n",
    "for i in tqdm(range(50, 275, 25)):\n",
    "    sl_spec[i] = sturm_liouville_bdd(potential, (0, 70 * np.pi), i, 321, (np.pi/8, np.pi/2))\n",
    "    sl_spec_dbm[i] = sturm_liouville_bdd(potential, (0, 70 * np.pi), i, 321, (np.pi/8, np.pi/2), db=(lambda x: x<=150))"
   ]
  },
  {
   "cell_type": "code",
   "execution_count": null,
   "metadata": {},
   "outputs": [],
   "source": [
    "plot(sl_spec)\n",
    "plot(sl_spec_dbm)"
   ]
  },
  {
   "cell_type": "code",
   "execution_count": null,
   "metadata": {},
   "outputs": [],
   "source": [
    "rusl = dict()\n",
    "for i in tqdm(range(50, 300, 50)):\n",
    "    rusl[i] = sturm_liouville_halfline(potential, i, 250, np.pi/8)"
   ]
  },
  {
   "cell_type": "code",
   "execution_count": null,
   "metadata": {},
   "outputs": [],
   "source": [
    "plot(rusl)"
   ]
  },
  {
   "cell_type": "code",
   "execution_count": null,
   "metadata": {},
   "outputs": [],
   "source": [
    "rusl_dbm = {}\n",
    "for i in tqdm(range(50, 275, 50)):\n",
    "    rusl_dbm[i] = sturm_liouville_halfline(potential, i, 250, alpha=np.pi/8, dbm=(lambda x: x<=100))"
   ]
  },
  {
   "cell_type": "code",
   "execution_count": null,
   "metadata": {},
   "outputs": [],
   "source": [
    "plot(rusl_dbm)\n",
    "plot(rusl_dbm, dbm=0.95)"
   ]
  },
  {
   "cell_type": "code",
   "execution_count": null,
   "metadata": {},
   "outputs": [],
   "source": [
    "rusl_dbm = {}\n",
    "for i in tqdm(range(50, 275, 50)):\n",
    "    rusl_dbm[i] = sturm_liouville_halfline(potential, i, 250, alpha=np.pi/8, dbm=(lambda x: x<=200))\n",
    "\n",
    "plot(rusl_dbm)\n",
    "plot(rusl_dbm, dbm=0.95)"
   ]
  },
  {
   "cell_type": "code",
   "execution_count": null,
   "metadata": {},
   "outputs": [],
   "source": []
  }
 ],
 "metadata": {
  "kernelspec": {
   "display_name": "Python 3",
   "language": "python",
   "name": "python3"
  },
  "language_info": {
   "codemirror_mode": {
    "name": "ipython",
    "version": 3
   },
   "file_extension": ".py",
   "mimetype": "text/x-python",
   "name": "python",
   "nbconvert_exporter": "python",
   "pygments_lexer": "ipython3",
   "version": "3.11.2"
  },
  "orig_nbformat": 4
 },
 "nbformat": 4,
 "nbformat_minor": 2
}
